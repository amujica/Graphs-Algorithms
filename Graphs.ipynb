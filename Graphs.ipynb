{
 "cells": [
  {
   "cell_type": "markdown",
   "metadata": {},
   "source": [
    "# Undirected Graphs"
   ]
  },
  {
   "cell_type": "markdown",
   "metadata": {},
   "source": [
    "We need to implement two functions:\n",
    "- Given an undirected graph and two distinct vertices 𝑢 and 𝑣, check if there is a path between 𝑢 and 𝑣 (path_exists)\n",
    "- Given an undirected graph with 𝑛 vertices and 𝑚 edges, compute the number of connected components in it. (get_connected_components)"
   ]
  },
  {
   "cell_type": "code",
   "execution_count": 1,
   "metadata": {},
   "outputs": [],
   "source": [
    "from collections import defaultdict \n",
    "import matplotlib.pyplot as plt\n",
    "import networkx as nx\n",
    "   \n",
    "#This class represents a directed graph using adjacency list representation \n",
    "class Undirected_Graph: \n",
    "   \n",
    "    def __init__(self,vertices): \n",
    "        self.V= vertices #No. of vertices \n",
    "        self.graph = defaultdict(list) # default dictionary to store graph. For each key a list is created \n",
    "   \n",
    "    # function to add an edge to graph \n",
    "    def addEdge(self,u,v): \n",
    "        if v==None:\n",
    "            self.graph[u] = []\n",
    "        else:   \n",
    "            self.graph[u].append(v)\n",
    "            self.graph[v].append(u)\n",
    "   \n",
    "    # A function used by DFS \n",
    "    def DFSUtil(self,v,visited): \n",
    "        # Mark the current node as visited and print it \n",
    "        visited[v]= True\n",
    "        print (\"Exploring \" + str(v)), \n",
    "        #Recur for all the vertices adjacent to this vertex \n",
    "        for i in self.graph[v]: \n",
    "            if visited[i]==False: \n",
    "                self.DFSUtil(i,visited) \n",
    "  \n",
    "    \n",
    "    # The function to do DFS traversal. It uses \n",
    "    # recursive DFSUtil() \n",
    "    def DFS(self, v): \n",
    "  \n",
    "        # Mark all the vertices as not visited \n",
    "        visited = [False] * (self.V) \n",
    "  \n",
    "        # Call the recursive helper function  \n",
    "        # to print DFS traversal \n",
    "        self.DFSUtil(v, visited) \n",
    "    \n",
    "\n",
    "    def draw_graph(self):\n",
    "        #color_map = [\"#F3AC71\",\"#82C8F4\",\"8CF371\",\"F38471\",\"#71B1F3\"]\n",
    "        G = nx.from_dict_of_lists(self.graph)\n",
    "        nx.draw(G,with_labels=True,node_color=\"#F3AC71\")\n",
    "        plt.draw()\n",
    "   \n",
    "    def path_exists(self,u,v):\n",
    "        visited = [False] * (self.V) \n",
    "        self.DFSUtil(u, visited)\n",
    "        if visited[v]:\n",
    "            return True\n",
    "        return False\n",
    "    \n",
    "    def get_connected_components(self):\n",
    "        visited = [False] * (self.V)\n",
    "        ccomp = 0\n",
    "        for i in range(self.V):\n",
    "            if visited[i]==False:\n",
    "                self.DFSUtil(i, visited)\n",
    "                ccomp+=1\n",
    "        return ccomp\n",
    "            \n",
    "  "
   ]
  },
  {
   "cell_type": "markdown",
   "metadata": {},
   "source": [
    "The runtime of these functions is:\n",
    "- path_exists has a runtime of $O(V + E)$ since it visits every vertex and edge from the selected vertex once\n",
    "- get_connected_components: It wil have the same runtime as doing DFS for the whole graph, since the only different is that our function has an extra variable (ccomp). DFS has a runtime of $O(V + E)$ since it visits every vertex and edge once"
   ]
  },
  {
   "cell_type": "code",
   "execution_count": 2,
   "metadata": {},
   "outputs": [
    {
     "name": "stdout",
     "output_type": "stream",
     "text": [
      "Does a path exist between 1 and 3?\n",
      "Exploring 1\n",
      "Exploring 0\n",
      "Exploring 2\n",
      "False\n",
      "How many connected components are?\n",
      "Exploring 0\n",
      "Exploring 1\n",
      "Exploring 2\n",
      "Exploring 3\n",
      "2\n"
     ]
    },
    {
     "data": {
      "image/png": "[encoded data removed]",
      "text/plain": [
       "<Figure size 432x288 with 1 Axes>"
      ]
     },
     "metadata": {},
     "output_type": "display_data"
    }
   ],
   "source": [
    "g = Undirected_Graph(4) \n",
    "g.addEdge(0, 1) \n",
    "g.addEdge(1, 2) \n",
    "g.addEdge(3, None) \n",
    "g.draw_graph()\n",
    "\n",
    "print(\"Does a path exist between 1 and 3?\")\n",
    "print(g.path_exists(1,3))\n",
    "\n",
    "print(\"How many connected components are?\")\n",
    "print(g.get_connected_components())\n"
   ]
  },
  {
   "cell_type": "code",
   "execution_count": 3,
   "metadata": {},
   "outputs": [
    {
     "name": "stdout",
     "output_type": "stream",
     "text": [
      "Does a path exist between 0 and 3?\n",
      "Exploring 0\n",
      "Exploring 1\n",
      "Exploring 2\n",
      "Exploring 3\n",
      "True\n",
      "How many connected components are?\n",
      "Exploring 0\n",
      "Exploring 1\n",
      "Exploring 2\n",
      "Exploring 3\n",
      "1\n"
     ]
    },
    {
     "data": {
      "image/png": "[encoded data removed]",
      "text/plain": [
       "<Figure size 432x288 with 1 Axes>"
      ]
     },
     "metadata": {},
     "output_type": "display_data"
    }
   ],
   "source": [
    "g = Undirected_Graph(4) \n",
    "g.addEdge(0,1) \n",
    "g.addEdge(1,2) \n",
    "g.addEdge(2,3)\n",
    "g.addEdge(3,0)\n",
    "g.draw_graph()\n",
    "\n",
    "print(\"Does a path exist between 0 and 3?\")\n",
    "print(g.path_exists(0,3))\n",
    "\n",
    "print(\"How many connected components are?\")\n",
    "print(g.get_connected_components())"
   ]
  },
  {
   "cell_type": "code",
   "execution_count": 4,
   "metadata": {},
   "outputs": [
    {
     "name": "stdout",
     "output_type": "stream",
     "text": [
      "Does a path exist between 0 and 3?\n",
      "Exploring 0\n",
      "Exploring 1\n",
      "Exploring 2\n",
      "Exploring 3\n",
      "Exploring 4\n",
      "Exploring 5\n",
      "Exploring 6\n",
      "True\n",
      "How many connected components are?\n",
      "Exploring 0\n",
      "Exploring 1\n",
      "Exploring 2\n",
      "Exploring 3\n",
      "Exploring 4\n",
      "Exploring 5\n",
      "Exploring 6\n",
      "Exploring 7\n",
      "Exploring 8\n",
      "2\n"
     ]
    },
    {
     "data": {
      "image/png": "[encoded data removed]",
      "text/plain": [
       "<Figure size 432x288 with 1 Axes>"
      ]
     },
     "metadata": {},
     "output_type": "display_data"
    }
   ],
   "source": [
    "g = Undirected_Graph(9) \n",
    "g.addEdge(0,1) \n",
    "g.addEdge(1,2) \n",
    "g.addEdge(2,3)\n",
    "g.addEdge(3,0)\n",
    "g.addEdge(2,4)\n",
    "g.addEdge(4,5)\n",
    "g.addEdge(4,6)\n",
    "g.addEdge(7,8)\n",
    "g.draw_graph()\n",
    "\n",
    "print(\"Does a path exist between 0 and 3?\")\n",
    "print(g.path_exists(0,3))\n",
    "\n",
    "print(\"How many connected components are?\")\n",
    "print(g.get_connected_components())"
   ]
  },
  {
   "cell_type": "code",
   "execution_count": 5,
   "metadata": {},
   "outputs": [
    {
     "name": "stdout",
     "output_type": "stream",
     "text": [
      "Does a path exist between 0 and 3?\n",
      "Exploring 0\n",
      "False\n",
      "How many connected components are?\n",
      "Exploring 0\n",
      "Exploring 1\n",
      "Exploring 2\n",
      "Exploring 3\n",
      "Exploring 4\n",
      "4\n"
     ]
    },
    {
     "data": {
      "image/png": "[encoded data removed]",
      "text/plain": [
       "<Figure size 432x288 with 1 Axes>"
      ]
     },
     "metadata": {},
     "output_type": "display_data"
    }
   ],
   "source": [
    "g = Undirected_Graph(5) \n",
    "g.addEdge(0,None) \n",
    "g.addEdge(1,2) \n",
    "g.addEdge(3,None)\n",
    "g.addEdge(4,None)\n",
    "g.draw_graph()\n",
    "\n",
    "print(\"Does a path exist between 0 and 3?\")\n",
    "print(g.path_exists(0,3))\n",
    "\n",
    "print(\"How many connected components are?\")\n",
    "print(g.get_connected_components())"
   ]
  },
  {
   "cell_type": "markdown",
   "metadata": {},
   "source": [
    "# Directed Graphs"
   ]
  },
  {
   "cell_type": "markdown",
   "metadata": {},
   "source": [
    "We need to implement three functions:\n",
    "- Check whether a given directed graph with 𝑛 vertices and 𝑚 edges contains a cycle (contains_cycle)\n",
    "- Compute a topological ordering of a given directed acyclic graph (DAG) with 𝑛 vertices and 𝑚 edges (topological_order)\n",
    "- Compute the number of strongly connected components of a given directed graph with 𝑛 vertices and 𝑚 edges (get_SCC)"
   ]
  },
  {
   "cell_type": "code",
   "execution_count": 6,
   "metadata": {},
   "outputs": [],
   "source": [
    "from collections import defaultdict \n",
    "import math\n",
    "   \n",
    "#This class represents a directed graph using adjacency list representation \n",
    "class Directed_Graph: \n",
    "   \n",
    "    def __init__(self,vertices): \n",
    "        self.V= vertices #No. of vertices \n",
    "        self.graph = defaultdict(list) # default dictionary to store graph. For each key a list is created \n",
    "   \n",
    "    # function to add an edge to graph \n",
    "    def addEdge(self,u,v): \n",
    "        if v==None:\n",
    "            self.graph[u] = []\n",
    "        else:   \n",
    "            self.graph[u].append(v)\n",
    "   \n",
    "    def draw_graph(self):\n",
    "        lis = []\n",
    "        for i in g.graph:\n",
    "            for j in g.graph[i]:\n",
    "                lis.append((i,j))\n",
    "        H = nx.DiGraph() \n",
    "        H.add_edges_from(lis) \n",
    "        #pos = nx.spring_layout(H,k=2)\n",
    "        nx.draw(H,with_labels=True,node_color=\"#71B1F3\")\n",
    "        plt.draw()\n",
    "        \n",
    "    \n",
    "        \n",
    "    # A function used by DFS \n",
    "    def DFSUtil(self,v,visited): \n",
    "        # Mark the current node as visited and print it \n",
    "        visited[v]= True\n",
    "        #print (\"Exploring \" + str(v)), \n",
    "        #Recur for all the vertices adjacent to this vertex \n",
    "        for i in self.graph[v]:\n",
    "            if visited[i]==False: \n",
    "                self.DFSUtil(i,visited) \n",
    "  \n",
    "    \n",
    "    # The function to do DFS traversal. It uses \n",
    "    # recursive DFSUtil() \n",
    "    def DFS(self, v): \n",
    "        # Mark all the vertices as not visited \n",
    "        visited = [False] * (self.V) \n",
    "  \n",
    "        # Call the recursive helper function  \n",
    "        # to print DFS traversal \n",
    "        self.DFSUtil(v, visited) \n",
    "    \n",
    "    def ContainsUtil(self,v,visited,stc): \n",
    "        # Mark the current node as visited and print it \n",
    "        \n",
    "        visited[v]= True\n",
    "        stc[v]=True\n",
    "        \n",
    "        #print (\"Exploring \" + str(v))\n",
    "        \n",
    "        for i in self.graph[v]:\n",
    "            if stc[i]:\n",
    "                return True\n",
    "            if visited[i]==False: \n",
    "                if self.ContainsUtil(i,visited,stc):\n",
    "                    return True\n",
    "        stc[v]=False\n",
    "        return False\n",
    "        \n",
    "    def contains_cycle(self):\n",
    "        visited = [False] * (self.V)\n",
    "        for i in range(self.V):\n",
    "            stc = [False] * (self.V)\n",
    "            if visited[i]==False: \n",
    "                if self.ContainsUtil(i, visited,stc):\n",
    "                    return True\n",
    "        return False\n",
    "    \n",
    "    def getTranspose(self): \n",
    "        h = Directed_Graph(self.V)\n",
    "        not_app = list(range(self.V))\n",
    "        for i in range(self.V):\n",
    "            for j in self.graph[i]:\n",
    "                h.graph[j].append(i)\n",
    "                if j in not_app: not_app.remove(j)\n",
    "        for i in not_app:\n",
    "            h.addEdge(i,None)\n",
    "        return h\n",
    "    \n",
    "    def order_by_posts(self,g,v,visited,posts): \n",
    "        # Mark the current node as visited and print it \n",
    "        visited[v]= True\n",
    "        #print (\"Exploring \" + str(v)), \n",
    "        #Recur for all the vertices adjacent to this vertex \n",
    "        for i in g.graph[v]:\n",
    "            if visited[i]==False: \n",
    "                self.order_by_posts(g,i,visited,posts)\n",
    "                \n",
    "        posts.insert(0,v)\n",
    "        \n",
    "        \n",
    "    def DFS_scc(self,v,visited,lis): \n",
    "        # Mark the current node as visited and print it \n",
    "        visited[v]= True\n",
    "        lis.append(v)\n",
    "        #print (\"Exploring \" + str(v)), \n",
    "        \n",
    "        for i in self.graph[v]:\n",
    "            if visited[i]==False: \n",
    "                self.DFS_scc(i,visited,lis) \n",
    "                \n",
    "    def get_SCC(self):\n",
    "        scc = []\n",
    "        posts = []\n",
    "        # We do a DFS on the reverse graph in order to get the vertices\n",
    "        # in order of posts. The vertex with the biggest post will be a\n",
    "        # source SCC of the transpose and a sink SCC of the original\n",
    "        g = self.getTranspose()\n",
    "        visited = [False] * (g.V)\n",
    "        for i in range(g.V):\n",
    "            if visited[i]==False:\n",
    "                self.order_by_posts(g,i, visited,posts)\n",
    "        \n",
    "        \n",
    "        print(posts)\n",
    "        \n",
    "        # Once we have the vertices in order,we do a DFS to find out which\n",
    "        # vertices belong to which SCC\n",
    "        num_scc = 0\n",
    "        visited = [False] * (self.V)\n",
    "        \n",
    "        for i in posts :\n",
    "            if visited[i]==False:\n",
    "                num_scc+=1\n",
    "                vis_bef = visited.copy()\n",
    "                lis=[]\n",
    "                self.DFS_scc(i, visited,lis)\n",
    "                scc.append(lis)\n",
    "                \n",
    "        print(\"There is/are {} strong connected components\".format(num_scc))\n",
    "        return scc\n",
    "        \n",
    "            \n",
    "    def topological_sort(self):\n",
    "        if self.contains_cycle():\n",
    "            print (\"Cannot be ordered, it is not a DAG\")\n",
    "            return\n",
    "        \n",
    "        # We need to find the sinks and put them at the end, i.e ordering\n",
    "        # by post-visits. In DAGs we have as many SCC as num of vertices, so\n",
    "        # what we are doing is sorting the SCCs really\n",
    "        g = self.getTranspose()\n",
    "        visited = [False] * (g.V)\n",
    "        posts = []\n",
    "        for i in range(g.V):\n",
    "            if visited[i]==False:\n",
    "                self.order_by_posts(g,i, visited,posts)\n",
    "        \n",
    "        posts = list(reversed(posts))\n",
    "        return posts\n",
    "        \n",
    "        \n",
    "  "
   ]
  },
  {
   "cell_type": "markdown",
   "metadata": {},
   "source": [
    "The runtime of these functions is:\n",
    "- contains_cycle has a runtime of $O(V + E)$ since it visits every vertex and edge once in the worst case.\n",
    "- topological_order has a runtime of $O(V + E)$ since it is basically a DFS\n",
    "- get_SCC has a runtime of $O(V + E)$ since it does two DFS"
   ]
  },
  {
   "cell_type": "code",
   "execution_count": 7,
   "metadata": {},
   "outputs": [
    {
     "name": "stdout",
     "output_type": "stream",
     "text": [
      "Does it contain a cycle?\n",
      "True\n",
      "\n",
      "\n",
      "How many SCCs does it have?\n",
      "[0, 3, 2, 1]\n",
      "There is/are 2 strong connected components\n",
      "[[0, 1, 2], [3]]\n",
      "\n",
      "\n",
      "Ordered linearly:\n",
      "Cannot be ordered, it is not a DAG\n",
      "None\n"
     ]
    },
    {
     "data": {
      "image/png": "[encoded data removed]",
      "text/plain": [
       "<Figure size 432x288 with 1 Axes>"
      ]
     },
     "metadata": {},
     "output_type": "display_data"
    }
   ],
   "source": [
    "g = Directed_Graph(4) \n",
    "g.addEdge(0, 1) \n",
    "g.addEdge(1, 2) \n",
    "g.addEdge(2, 0) \n",
    "g.addEdge(3, 0) \n",
    "\n",
    "g.draw_graph()\n",
    "\n",
    "print(\"Does it contain a cycle?\")\n",
    "print(g.contains_cycle())\n",
    "print(\"\\n\")\n",
    "\n",
    "print(\"How many SCCs does it have?\")\n",
    "print(g.get_SCC())\n",
    "print(\"\\n\")\n",
    "\n",
    "print(\"Ordered linearly:\")\n",
    "print(g.topological_sort())"
   ]
  },
  {
   "cell_type": "code",
   "execution_count": 8,
   "metadata": {},
   "outputs": [
    {
     "name": "stdout",
     "output_type": "stream",
     "text": [
      "Does it contain a cycle?\n",
      "False\n",
      "\n",
      "\n",
      "How many SCCs does it have?\n",
      "[4, 3, 2, 1, 0]\n",
      "There is/are 5 strong connected components\n",
      "[[4], [3], [2], [1], [0]]\n",
      "\n",
      "\n",
      "Ordered linearly:\n",
      "[0, 1, 2, 3, 4]\n"
     ]
    },
    {
     "data": {
      "image/png": "[encoded data removed]",
      "text/plain": [
       "<Figure size 432x288 with 1 Axes>"
      ]
     },
     "metadata": {},
     "output_type": "display_data"
    }
   ],
   "source": [
    "g = Directed_Graph(5) \n",
    "g.addEdge(0, 1) \n",
    "g.addEdge(0, 2) \n",
    "g.addEdge(0, 3) \n",
    "g.addEdge(1, 4)\n",
    "g.addEdge(1, 2)\n",
    "g.addEdge(2, 4)\n",
    "g.addEdge(3, None)\n",
    "g.addEdge(4, None)\n",
    "\n",
    "\n",
    "g.draw_graph()\n",
    "\n",
    "print(\"Does it contain a cycle?\")\n",
    "print(g.contains_cycle())\n",
    "print(\"\\n\")\n",
    "\n",
    "print(\"How many SCCs does it have?\")\n",
    "print(g.get_SCC())\n",
    "print(\"\\n\")\n",
    "\n",
    "print(\"Ordered linearly:\")\n",
    "print(g.topological_sort())"
   ]
  },
  {
   "cell_type": "code",
   "execution_count": 9,
   "metadata": {},
   "outputs": [
    {
     "name": "stdout",
     "output_type": "stream",
     "text": [
      "Does it contain a cycle?\n",
      "False\n",
      "\n",
      "\n",
      "How many SCCs does it have?\n",
      "[0, 3, 1, 2, 4]\n",
      "There is/are 5 strong connected components\n",
      "[[0], [3], [1], [2], [4]]\n",
      "\n",
      "\n",
      "Ordered linearly:\n",
      "[4, 2, 1, 3, 0]\n"
     ]
    },
    {
     "data": {
      "image/png": "[encoded data removed]",
      "text/plain": [
       "<Figure size 432x288 with 1 Axes>"
      ]
     },
     "metadata": {},
     "output_type": "display_data"
    }
   ],
   "source": [
    "g = Directed_Graph(5) \n",
    "g.addEdge(0, 1) \n",
    "g.addEdge(0, 2) \n",
    "g.addEdge(0, 3) \n",
    "g.addEdge(1, 4)\n",
    "g.addEdge(1, 2)\n",
    "g.addEdge(2, 4)\n",
    "g.addEdge(3, None)\n",
    "g.addEdge(4, None)\n",
    "g = g.getTranspose()\n",
    "\n",
    "g.draw_graph()\n",
    "\n",
    "\n",
    "print(\"Does it contain a cycle?\")\n",
    "print(g.contains_cycle())\n",
    "print(\"\\n\")\n",
    "\n",
    "print(\"How many SCCs does it have?\")\n",
    "print(g.get_SCC())\n",
    "print(\"\\n\")\n",
    "\n",
    "print(\"Ordered linearly:\")\n",
    "print(g.topological_sort())"
   ]
  },
  {
   "cell_type": "code",
   "execution_count": 10,
   "metadata": {},
   "outputs": [
    {
     "name": "stdout",
     "output_type": "stream",
     "text": [
      "Does it contain a cycle?\n",
      "True\n",
      "\n",
      "\n",
      "How many SCCs does it have?\n",
      "[3, 5, 4, 2, 1, 0]\n",
      "There is/are 4 strong connected components\n",
      "[[3, 4, 5], [2], [1], [0]]\n",
      "\n",
      "\n",
      "Ordered linearly:\n",
      "Cannot be ordered, it is not a DAG\n",
      "None\n"
     ]
    },
    {
     "data": {
      "image/png": "[encoded data removed]",
      "text/plain": [
       "<Figure size 432x288 with 1 Axes>"
      ]
     },
     "metadata": {},
     "output_type": "display_data"
    }
   ],
   "source": [
    "g = Directed_Graph(6) \n",
    "g.addEdge(0, 1) \n",
    "g.addEdge(1, 2) \n",
    "g.addEdge(0, 3) \n",
    "g.addEdge(3, 4)\n",
    "g.addEdge(4, 5)\n",
    "g.addEdge(5, 3)\n",
    "g.addEdge(2, None)\n",
    "\n",
    "g.draw_graph()\n",
    "\n",
    "print(\"Does it contain a cycle?\")\n",
    "print(g.contains_cycle())\n",
    "print(\"\\n\")\n",
    "\n",
    "print(\"How many SCCs does it have?\")\n",
    "print(g.get_SCC())\n",
    "print(\"\\n\")\n",
    "\n",
    "print(\"Ordered linearly:\")\n",
    "print(g.topological_sort())"
   ]
  },
  {
   "cell_type": "code",
   "execution_count": 11,
   "metadata": {},
   "outputs": [
    {
     "name": "stdout",
     "output_type": "stream",
     "text": [
      "Does it contain a cycle?\n",
      "True\n",
      "\n",
      "\n",
      "How many SCCs does it have?\n",
      "[8, 7, 2, 1, 0, 3, 6, 5, 4]\n",
      "There is/are 7 strong connected components\n",
      "[[8], [7], [2], [1], [0], [3, 4, 5], [6]]\n",
      "\n",
      "\n",
      "Ordered linearly:\n",
      "Cannot be ordered, it is not a DAG\n",
      "None\n"
     ]
    },
    {
     "data": {
      "image/png": "[encoded data removed]",
      "text/plain": [
       "<Figure size 432x288 with 1 Axes>"
      ]
     },
     "metadata": {},
     "output_type": "display_data"
    }
   ],
   "source": [
    "g = Directed_Graph(9) \n",
    "g.addEdge(0, 1) \n",
    "g.addEdge(1, 2) \n",
    "g.addEdge(3, 0) \n",
    "g.addEdge(3, 4)\n",
    "g.addEdge(4, 5)\n",
    "g.addEdge(6, 3)\n",
    "g.addEdge(5, 3)\n",
    "\n",
    "g.addEdge(2, None)\n",
    "\n",
    "g.draw_graph()\n",
    "\n",
    "print(\"Does it contain a cycle?\")\n",
    "print(g.contains_cycle())\n",
    "print(\"\\n\")\n",
    "\n",
    "print(\"How many SCCs does it have?\")\n",
    "print(g.get_SCC())\n",
    "print(\"\\n\")\n",
    "\n",
    "print(\"Ordered linearly:\")\n",
    "print(g.topological_sort())"
   ]
  },
  {
   "cell_type": "code",
   "execution_count": 12,
   "metadata": {},
   "outputs": [
    {
     "name": "stdout",
     "output_type": "stream",
     "text": [
      "Does it contain a cycle?\n",
      "False\n",
      "\n",
      "\n",
      "How many SCCs does it have?\n",
      "[2, 5, 4, 3, 1, 0]\n",
      "There is/are 6 strong connected components\n",
      "[[2], [5], [4], [3], [1], [0]]\n",
      "\n",
      "\n",
      "Ordered linearly:\n",
      "[0, 1, 3, 4, 5, 2]\n"
     ]
    },
    {
     "data": {
      "image/png": "[encoded data removed]",
      "text/plain": [
       "<Figure size 432x288 with 1 Axes>"
      ]
     },
     "metadata": {},
     "output_type": "display_data"
    }
   ],
   "source": [
    "g = Directed_Graph(6) \n",
    "g.addEdge(0, 1) \n",
    "g.addEdge(1, 2) \n",
    "g.addEdge(0, 3) \n",
    "g.addEdge(3, 4)\n",
    "g.addEdge(4, 5)\n",
    "g.addEdge(3, 5)\n",
    "g.addEdge(5, 2)\n",
    "g.addEdge(2, None)\n",
    "\n",
    "g.draw_graph()\n",
    "\n",
    "print(\"Does it contain a cycle?\")\n",
    "print(g.contains_cycle())\n",
    "print(\"\\n\")\n",
    "\n",
    "print(\"How many SCCs does it have?\")\n",
    "print(g.get_SCC())\n",
    "print(\"\\n\")\n",
    "\n",
    "print(\"Ordered linearly:\")\n",
    "print(g.topological_sort())"
   ]
  }
 ],
 "metadata": {
  "kernelspec": {
   "display_name": "Python 3",
   "language": "python",
   "name": "python3"
  },
  "language_info": {
   "codemirror_mode": {
    "name": "ipython",
    "version": 3
   },
   "file_extension": ".py",
   "mimetype": "text/x-python",
   "name": "python",
   "nbconvert_exporter": "python",
   "pygments_lexer": "ipython3",
   "version": "3.8.3"
  }
 },
 "nbformat": 4,
 "nbformat_minor": 4
}
