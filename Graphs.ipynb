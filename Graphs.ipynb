{
 "cells": [
  {
   "cell_type": "markdown",
   "metadata": {},
   "source": [
    "# Undirected Graphs"
   ]
  },
  {
   "cell_type": "code",
   "execution_count": 1,
   "metadata": {},
   "outputs": [],
   "source": [
    "from collections import defaultdict \n",
    "import matplotlib.pyplot as plt\n",
    "import networkx as nx\n",
    "   \n",
    "#This class represents a directed graph using adjacency list representation \n",
    "class Undirected_Graph: \n",
    "   \n",
    "    def __init__(self,vertices): \n",
    "        self.V= vertices #No. of vertices \n",
    "        self.graph = defaultdict(list) # default dictionary to store graph. For each key a list is created \n",
    "   \n",
    "    # function to add an edge to graph \n",
    "    def addEdge(self,u,v): \n",
    "        if v==None:\n",
    "            self.graph[u] = []\n",
    "        else:   \n",
    "            self.graph[u].append(v)\n",
    "            self.graph[v].append(u)\n",
    "   \n",
    "    # A function used by DFS \n",
    "    def DFSUtil(self,v,visited): \n",
    "        # Mark the current node as visited and print it \n",
    "        visited[v]= True\n",
    "        print (\"Exploring \" + str(v)), \n",
    "        #Recur for all the vertices adjacent to this vertex \n",
    "        for i in self.graph[v]: \n",
    "            if visited[i]==False: \n",
    "                self.DFSUtil(i,visited) \n",
    "  \n",
    "    \n",
    "    # The function to do DFS traversal. It uses \n",
    "    # recursive DFSUtil() \n",
    "    def DFS(self, v): \n",
    "  \n",
    "        # Mark all the vertices as not visited \n",
    "        visited = [False] * (len(self.graph)) \n",
    "  \n",
    "        # Call the recursive helper function  \n",
    "        # to print DFS traversal \n",
    "        self.DFSUtil(v, visited) \n",
    "    \n",
    "\n",
    "    def draw_graph(self):\n",
    "        #color_map = [\"#F3AC71\",\"#82C8F4\",\"8CF371\",\"F38471\",\"#71B1F3\"]\n",
    "        G = nx.from_dict_of_lists(self.graph)\n",
    "        nx.draw(G,with_labels=True,node_color=\"#F3AC71\")\n",
    "        plt.draw()\n",
    "   \n",
    "    def path_exists(self,u,v):\n",
    "        visited = [False] * (len(self.graph)) \n",
    "        self.DFSUtil(u, visited)\n",
    "        if visited[v]:\n",
    "            return 1\n",
    "        return 0\n",
    "    \n",
    "    def get_connected_components(self):\n",
    "        visited = [False] * (len(self.graph))\n",
    "        ccomp = 0\n",
    "        for i in range(len(self.graph)):\n",
    "            if visited[i]==False:\n",
    "                self.DFSUtil(i, visited)\n",
    "                ccomp+=1\n",
    "        return ccomp\n",
    "            \n",
    "  "
   ]
  },
  {
   "cell_type": "code",
   "execution_count": 2,
   "metadata": {},
   "outputs": [
    {
     "name": "stdout",
     "output_type": "stream",
     "text": [
      "Does a path exist between 1 and 3?\n",
      "Exploring 1\n",
      "Exploring 0\n",
      "Exploring 2\n",
      "0\n",
      "How many connected components are?\n",
      "Exploring 0\n",
      "Exploring 1\n",
      "Exploring 2\n",
      "Exploring 3\n",
      "2\n"
     ]
    },
    {
     "data": {
      "image/png": "[encoded data removed]",
      "text/plain": [
       "<Figure size 432x288 with 1 Axes>"
      ]
     },
     "metadata": {},
     "output_type": "display_data"
    }
   ],
   "source": [
    "g = Undirected_Graph(4) \n",
    "g.addEdge(0, 1) \n",
    "g.addEdge(1, 2) \n",
    "g.addEdge(3, None) \n",
    "g.draw_graph()\n",
    "\n",
    "print(\"Does a path exist between 1 and 3?\")\n",
    "print(g.path_exists(1,3))\n",
    "\n",
    "print(\"How many connected components are?\")\n",
    "print(g.get_connected_components())\n"
   ]
  },
  {
   "cell_type": "code",
   "execution_count": 3,
   "metadata": {},
   "outputs": [
    {
     "name": "stdout",
     "output_type": "stream",
     "text": [
      "Does a path exist between 0 and 3?\n",
      "Exploring 0\n",
      "Exploring 1\n",
      "Exploring 2\n",
      "Exploring 3\n",
      "1\n",
      "How many connected components are?\n",
      "Exploring 0\n",
      "Exploring 1\n",
      "Exploring 2\n",
      "Exploring 3\n",
      "1\n"
     ]
    },
    {
     "data": {
      "image/png": "[encoded data removed]",
      "text/plain": [
       "<Figure size 432x288 with 1 Axes>"
      ]
     },
     "metadata": {},
     "output_type": "display_data"
    }
   ],
   "source": [
    "g = Undirected_Graph(4) \n",
    "g.addEdge(0,1) \n",
    "g.addEdge(1,2) \n",
    "g.addEdge(2,3)\n",
    "g.addEdge(3,0)\n",
    "g.draw_graph()\n",
    "\n",
    "print(\"Does a path exist between 0 and 3?\")\n",
    "print(g.path_exists(0,3))\n",
    "\n",
    "print(\"How many connected components are?\")\n",
    "print(g.get_connected_components())"
   ]
  },
  {
   "cell_type": "code",
   "execution_count": 4,
   "metadata": {},
   "outputs": [
    {
     "name": "stdout",
     "output_type": "stream",
     "text": [
      "Does a path exist between 0 and 3?\n",
      "Exploring 0\n",
      "Exploring 1\n",
      "Exploring 2\n",
      "Exploring 3\n",
      "Exploring 4\n",
      "Exploring 5\n",
      "Exploring 6\n",
      "1\n",
      "How many connected components are?\n",
      "Exploring 0\n",
      "Exploring 1\n",
      "Exploring 2\n",
      "Exploring 3\n",
      "Exploring 4\n",
      "Exploring 5\n",
      "Exploring 6\n",
      "Exploring 7\n",
      "Exploring 8\n",
      "2\n"
     ]
    },
    {
     "data": {
      "image/png": "[encoded data removed]",
      "text/plain": [
       "<Figure size 432x288 with 1 Axes>"
      ]
     },
     "metadata": {},
     "output_type": "display_data"
    }
   ],
   "source": [
    "g = Undirected_Graph(9) \n",
    "g.addEdge(0,1) \n",
    "g.addEdge(1,2) \n",
    "g.addEdge(2,3)\n",
    "g.addEdge(3,0)\n",
    "g.addEdge(2,4)\n",
    "g.addEdge(4,5)\n",
    "g.addEdge(4,6)\n",
    "g.addEdge(7,8)\n",
    "g.draw_graph()\n",
    "\n",
    "print(\"Does a path exist between 0 and 3?\")\n",
    "print(g.path_exists(0,3))\n",
    "\n",
    "print(\"How many connected components are?\")\n",
    "print(g.get_connected_components())"
   ]
  },
  {
   "cell_type": "code",
   "execution_count": 5,
   "metadata": {},
   "outputs": [
    {
     "name": "stdout",
     "output_type": "stream",
     "text": [
      "Does a path exist between 0 and 3?\n",
      "Exploring 0\n",
      "0\n",
      "How many connected components are?\n",
      "Exploring 0\n",
      "Exploring 1\n",
      "Exploring 2\n",
      "Exploring 3\n",
      "Exploring 4\n",
      "4\n"
     ]
    },
    {
     "data": {
      "image/png": "[encoded data removed]",
      "text/plain": [
       "<Figure size 432x288 with 1 Axes>"
      ]
     },
     "metadata": {},
     "output_type": "display_data"
    }
   ],
   "source": [
    "g = Undirected_Graph(5) \n",
    "g.addEdge(0,None) \n",
    "g.addEdge(1,2) \n",
    "g.addEdge(3,None)\n",
    "g.addEdge(4,None)\n",
    "g.draw_graph()\n",
    "\n",
    "print(\"Does a path exist between 0 and 3?\")\n",
    "print(g.path_exists(0,3))\n",
    "\n",
    "print(\"How many connected components are?\")\n",
    "print(g.get_connected_components())"
   ]
  },
  {
   "cell_type": "markdown",
   "metadata": {},
   "source": [
    "# Directed Graphs"
   ]
  },
  {
   "cell_type": "code",
   "execution_count": 6,
   "metadata": {},
   "outputs": [],
   "source": [
    "from collections import defaultdict \n",
    "import math\n",
    "   \n",
    "#This class represents a directed graph using adjacency list representation \n",
    "class Directed_Graph: \n",
    "   \n",
    "    def __init__(self,vertices): \n",
    "        self.V= vertices #No. of vertices \n",
    "        self.graph = defaultdict(list) # default dictionary to store graph. For each key a list is created \n",
    "   \n",
    "    # function to add an edge to graph \n",
    "    def addEdge(self,u,v): \n",
    "        if v==None:\n",
    "            self.graph[u] = []\n",
    "        else:   \n",
    "            self.graph[u].append(v)\n",
    "   \n",
    "    def draw_graph(self):\n",
    "        lis = []\n",
    "        for i in g.graph:\n",
    "            for j in g.graph[i]:\n",
    "                lis.append((i,j))\n",
    "        H = nx.DiGraph() \n",
    "        H.add_edges_from(lis) \n",
    "        #pos = nx.spring_layout(H,k=2)\n",
    "        nx.draw(H,with_labels=True,node_color=\"#F3AC71\")\n",
    "        plt.draw()\n",
    "        \n",
    "    \n",
    "        \n",
    "    # A function used by DFS \n",
    "    def DFSUtil(self,v,visited): \n",
    "        # Mark the current node as visited and print it \n",
    "        visited[v]= True\n",
    "        print (\"Exploring \" + str(v)), \n",
    "        #Recur for all the vertices adjacent to this vertex \n",
    "        for i in self.graph[v]:\n",
    "            if visited[i]==False: \n",
    "                self.DFSUtil(i,visited) \n",
    "  \n",
    "    \n",
    "    # The function to do DFS traversal. It uses \n",
    "    # recursive DFSUtil() \n",
    "    def DFS(self, v): \n",
    "        print(len(self.graph))\n",
    "        # Mark all the vertices as not visited \n",
    "        visited = [False] * (len(self.graph)) \n",
    "  \n",
    "        # Call the recursive helper function  \n",
    "        # to print DFS traversal \n",
    "        self.DFSUtil(v, visited) \n",
    "    \n",
    "    def ContainsUtil(self,v,visited,orig): \n",
    "        # Mark the current node as visited and print it \n",
    "        visited[v]= True\n",
    "        print (\"Exploring \" + str(v)), \n",
    "        #Recur for all the vertices adjacent to this vertex \n",
    "        for i in self.graph[v]:\n",
    "            if i in orig:\n",
    "                print (\"There is a cycle\")\n",
    "            if visited[i]==False: \n",
    "                orig.append(i)\n",
    "                self.ContainsUtil(i,visited,orig) \n",
    "                \n",
    "    def contains_cycle(self):\n",
    "        visited = [False] * (len(self.graph))\n",
    "        for i in range(len(self.graph)):\n",
    "            if visited[i]==False: \n",
    "                orig = []\n",
    "                orig.append(i)\n",
    "                self.ContainsUtil(i, visited,orig)\n",
    "    \n",
    "    def get_SCC(self):\n",
    "        visited = [False] * (len(self.graph))\n",
    "        ccomp = 0\n",
    "        for i in range(len(self.graph)):\n",
    "            if visited[i]==False:\n",
    "                self.DFSUtil(i, visited)\n",
    "                ccomp+=1\n",
    "        return ccomp\n",
    "            \n",
    "\n",
    "    def fillOrder(self,v,visited, stack): \n",
    "        # Mark the current node as visited  \n",
    "        visited[v]= True\n",
    "        #Recur for all the vertices adjacent to this vertex \n",
    "        for i in self.graph[v]: \n",
    "            if visited[i]==False: \n",
    "                self.fillOrder(i, visited, stack) \n",
    "        stack = stack.append(v) \n",
    "      \n",
    "  \n",
    "    # Function that returns reverse (or transpose) of this graph \n",
    "    def getTranspose(self): \n",
    "        g = Graph(self.V) \n",
    "  \n",
    "        # Recur for all the vertices adjacent to this vertex \n",
    "        for i in self.graph: \n",
    "            for j in self.graph[i]: \n",
    "                g.addEdge(j,i) \n",
    "        return g "
   ]
  },
  {
   "cell_type": "code",
   "execution_count": null,
   "metadata": {},
   "outputs": [],
   "source": []
  },
  {
   "cell_type": "code",
   "execution_count": 7,
   "metadata": {},
   "outputs": [
    {
     "name": "stdout",
     "output_type": "stream",
     "text": [
      "Exploring 0\n",
      "Exploring 1\n",
      "Exploring 2\n",
      "There is a cycle\n",
      "Exploring 3\n"
     ]
    },
    {
     "data": {
      "image/png": "[encoded data removed]",
      "text/plain": [
       "<Figure size 432x288 with 1 Axes>"
      ]
     },
     "metadata": {},
     "output_type": "display_data"
    }
   ],
   "source": [
    "g = Directed_Graph(4) \n",
    "g.addEdge(0, 1) \n",
    "g.addEdge(1, 2) \n",
    "g.addEdge(2, 0) \n",
    "g.addEdge(3, 0) \n",
    "g.draw_graph()\n",
    "\n",
    "g.contains_cycle()\n"
   ]
  },
  {
   "cell_type": "code",
   "execution_count": 8,
   "metadata": {},
   "outputs": [
    {
     "name": "stdout",
     "output_type": "stream",
     "text": [
      "Exploring 0\n",
      "Exploring 1\n",
      "Exploring 4\n",
      "Exploring 2\n",
      "There is a cycle\n",
      "There is a cycle\n",
      "There is a cycle\n",
      "Exploring 3\n"
     ]
    },
    {
     "data": {
      "image/png": "[encoded data removed]",
      "text/plain": [
       "<Figure size 432x288 with 1 Axes>"
      ]
     },
     "metadata": {},
     "output_type": "display_data"
    }
   ],
   "source": [
    "g = Directed_Graph(5) \n",
    "g.addEdge(0, 1) \n",
    "g.addEdge(0, 2) \n",
    "g.addEdge(0, 3) \n",
    "g.addEdge(1, 4)\n",
    "g.addEdge(1, 2)\n",
    "g.addEdge(2, 4)\n",
    "g.addEdge(2, 4)\n",
    "g.addEdge(3, None)\n",
    "g.addEdge(4, None)\n",
    "\n",
    "\n",
    "g.draw_graph()\n",
    "\n",
    "\n",
    "g.contains_cycle()"
   ]
  },
  {
   "cell_type": "code",
   "execution_count": 9,
   "metadata": {},
   "outputs": [
    {
     "name": "stdout",
     "output_type": "stream",
     "text": [
      "Exploring 0\n",
      "Exploring 1\n",
      "Exploring 2\n",
      "Exploring 3\n",
      "Exploring 4\n",
      "Exploring 5\n",
      "There is a cycle\n"
     ]
    },
    {
     "data": {
      "image/png": "[encoded data removed]",
      "text/plain": [
       "<Figure size 432x288 with 1 Axes>"
      ]
     },
     "metadata": {},
     "output_type": "display_data"
    }
   ],
   "source": [
    "g = Directed_Graph(6) \n",
    "g.addEdge(0, 1) \n",
    "g.addEdge(1, 2) \n",
    "g.addEdge(0, 3) \n",
    "g.addEdge(3, 4)\n",
    "g.addEdge(4, 5)\n",
    "g.addEdge(5, 3)\n",
    "g.addEdge(2, None)\n",
    "\n",
    "\n",
    "g.contains_cycle()\n",
    "g.draw_graph()"
   ]
  },
  {
   "cell_type": "code",
   "execution_count": 10,
   "metadata": {},
   "outputs": [
    {
     "name": "stdout",
     "output_type": "stream",
     "text": [
      "Exploring 0\n",
      "Exploring 1\n",
      "Exploring 2\n",
      "Exploring 3\n",
      "Exploring 4\n",
      "Exploring 5\n",
      "There is a cycle\n",
      "There is a cycle\n",
      "There is a cycle\n",
      "There is a cycle\n",
      "There is a cycle\n",
      "Exploring 6\n"
     ]
    },
    {
     "data": {
      "image/png": "[encoded data removed]",
      "text/plain": [
       "<Figure size 432x288 with 1 Axes>"
      ]
     },
     "metadata": {},
     "output_type": "display_data"
    }
   ],
   "source": [
    "g = Directed_Graph(9) \n",
    "g.addEdge(0, 1) \n",
    "g.addEdge(1, 2) \n",
    "g.addEdge(3, 0) \n",
    "g.addEdge(3, 4)\n",
    "g.addEdge(4, 5)\n",
    "g.addEdge(6, 3)\n",
    "g.addEdge(5, 3)\n",
    "g.addEdge(5, 3)\n",
    "g.addEdge(5, 3)\n",
    "g.addEdge(5, 3)\n",
    "g.addEdge(2, None)\n",
    "g.addEdge(5, 3)\n",
    "g.draw_graph()\n",
    "\n",
    "g.contains_cycle()"
   ]
  },
  {
   "cell_type": "code",
   "execution_count": null,
   "metadata": {},
   "outputs": [],
   "source": []
  },
  {
   "cell_type": "code",
   "execution_count": null,
   "metadata": {},
   "outputs": [],
   "source": []
  },
  {
   "cell_type": "code",
   "execution_count": null,
   "metadata": {},
   "outputs": [],
   "source": []
  },
  {
   "cell_type": "code",
   "execution_count": null,
   "metadata": {},
   "outputs": [],
   "source": []
  },
  {
   "cell_type": "code",
   "execution_count": null,
   "metadata": {},
   "outputs": [],
   "source": []
  },
  {
   "cell_type": "code",
   "execution_count": null,
   "metadata": {},
   "outputs": [],
   "source": []
  },
  {
   "cell_type": "code",
   "execution_count": null,
   "metadata": {},
   "outputs": [],
   "source": []
  },
  {
   "cell_type": "code",
   "execution_count": null,
   "metadata": {},
   "outputs": [],
   "source": []
  }
 ],
 "metadata": {
  "kernelspec": {
   "display_name": "Python 3",
   "language": "python",
   "name": "python3"
  },
  "language_info": {
   "codemirror_mode": {
    "name": "ipython",
    "version": 3
   },
   "file_extension": ".py",
   "mimetype": "text/x-python",
   "name": "python",
   "nbconvert_exporter": "python",
   "pygments_lexer": "ipython3",
   "version": "3.8.3"
  }
 },
 "nbformat": 4,
 "nbformat_minor": 4
}
